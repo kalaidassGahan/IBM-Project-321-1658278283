{
  "nbformat": 4,
  "nbformat_minor": 0,
  "metadata": {
    "colab": {
      "provenance": []
    },
    "kernelspec": {
      "name": "python3",
      "display_name": "Python 3"
    },
    "language_info": {
      "name": "python"
    }
  },
  "cells": [
    {
      "cell_type": "markdown",
      "source": [
        "##IMPORTING NECESSARY LIBRARIES"
      ],
      "metadata": {
        "id": "HaYW_sB-sr4E"
      }
    },
    {
      "cell_type": "code",
      "execution_count": null,
      "metadata": {
        "id": "Bns8EY9Ir55l"
      },
      "outputs": [],
      "source": [
        "import os\n",
        "import cv2\n",
        "import numpy as np\n",
        "import matplotlib.pyplot as plt\n",
        "from keras.preprocessing.image import ImageDataGenerator"
      ]
    },
    {
      "cell_type": "markdown",
      "source": [
        "##RENAMING DATA FILES"
      ],
      "metadata": {
        "id": "A9ER5Awis0QS"
      }
    },
    {
      "cell_type": "code",
      "source": [
        "def rename_imgs(file_name):\n",
        "    folder_path = r'test_dataset/'+file_name\n",
        "\n",
        "    num = 0\n",
        "    for file in os.listdir(folder_path):\n",
        "        # if num%10 == 0:\n",
        "        #     print(f'Renamed {num} files...')\n",
        "        # os.rename(folder_path+'\\\\'+file, folder_path+'\\\\'+file_name+'_'+str(num)+'.jpeg')\n",
        "        num += 1"
      ],
      "metadata": {
        "id": "Vifnv8Spsx2i"
      },
      "execution_count": null,
      "outputs": []
    },
    {
      "cell_type": "code",
      "source": [
        "fn = 'Space'\n",
        "rename_imgs(fn)\n"
      ],
      "metadata": {
        "id": "llJOzoNVs828"
      },
      "execution_count": null,
      "outputs": []
    },
    {
      "cell_type": "code",
      "source": [
        "file_names = '0123456789'+'ABCDEFGHIJKLMNOPQRSTUVWXYZ'\n",
        "for fn in file_names:\n",
        "    rename_imgs(fn)"
      ],
      "metadata": {
        "id": "LK6bf3rYts5A"
      },
      "execution_count": null,
      "outputs": []
    },
    {
      "cell_type": "markdown",
      "source": [
        "##DISPLAYING SAMPLE IMAGES FROM DATASET"
      ],
      "metadata": {
        "id": "NPuk-olHttuQ"
      }
    },
    {
      "cell_type": "code",
      "source": [
        "train_data_path = 'train_dataset/'\n",
        "test_data_path = 'test_dataset/'"
      ],
      "metadata": {
        "id": "ny4GqC1Otx9u"
      },
      "execution_count": null,
      "outputs": []
    },
    {
      "cell_type": "code",
      "source": [
        "def display(img,sign=None):\n",
        "    \n",
        "    img = cv2.cvtColor(img,cv2.COLOR_BGR2RGB)\n",
        "    fig = plt.figure(figsize=(7,7))\n",
        "    ax = fig.add_subplot(111)\n",
        "    plt.title(sign)\n",
        "    ax.imshow(img)"
      ],
      "metadata": {
        "id": "k-PSJFOSuByn"
      },
      "execution_count": null,
      "outputs": []
    },
    {
      "cell_type": "markdown",
      "source": [
        "##Training Data Images"
      ],
      "metadata": {
        "id": "bfnNpZCquEG5"
      }
    },
    {
      "cell_type": "code",
      "source": [
        "sign_img = cv2.imread(train_data_path+'O/O_234.jpeg')\n",
        "display(sign_img,'a')"
      ],
      "metadata": {
        "id": "xaIGb_x6uFQ9"
      },
      "execution_count": null,
      "outputs": []
    },
    {
      "cell_type": "code",
      "source": [
        "sign_img = cv2.imread(train_data_path+'A/A_204.jpeg')\n",
        "display(sign_img,'A')"
      ],
      "metadata": {
        "id": "PUbDZZVguHZ1"
      },
      "execution_count": null,
      "outputs": []
    },
    {
      "cell_type": "code",
      "source": [
        "sign_img = cv2.imread(train_data_path+'3/3_340.jpeg')\n",
        "display(sign_img,'3')"
      ],
      "metadata": {
        "id": "z9e78wfuuLkT"
      },
      "execution_count": null,
      "outputs": []
    },
    {
      "cell_type": "code",
      "source": [
        "sign_img = cv2.imread(train_data_path+'M/M_100.jpeg')\n",
        "display(sign_img,'M')"
      ],
      "metadata": {
        "id": "USz01cGKuNaB"
      },
      "execution_count": null,
      "outputs": []
    },
    {
      "cell_type": "code",
      "source": [
        "sign_img = cv2.imread(train_data_path+'S/S_10.jpeg')\n",
        "display(sign_img,'Space')"
      ],
      "metadata": {
        "id": "DO59DVTUuPc_"
      },
      "execution_count": null,
      "outputs": []
    },
    {
      "cell_type": "markdown",
      "source": [
        "##Test Data Images"
      ],
      "metadata": {
        "id": "AdZ-WOnCuRRz"
      }
    },
    {
      "cell_type": "code",
      "source": [
        "sign_img = cv2.imread(test_data_path+'S/S_15.jpeg')\n",
        "display(sign_img,'S')"
      ],
      "metadata": {
        "id": "9tXpY3G7uSTF"
      },
      "execution_count": null,
      "outputs": []
    },
    {
      "cell_type": "code",
      "source": [
        "sign_img = cv2.imread(test_data_path+'Z/Z_1.jpeg')\n",
        "display(sign_img,'Z')"
      ],
      "metadata": {
        "id": "h0Si_5E1uVvQ"
      },
      "execution_count": null,
      "outputs": []
    },
    {
      "cell_type": "code",
      "source": [
        "sign_img = cv2.imread(test_data_path+'7/7_8.jpeg')\n",
        "display(sign_img,'7')"
      ],
      "metadata": {
        "id": "aOg0pr5BuXwt"
      },
      "execution_count": null,
      "outputs": []
    },
    {
      "cell_type": "markdown",
      "source": [
        "##AUGMENTATION AND PREPROCESSING THE DATASET"
      ],
      "metadata": {
        "id": "sM5xxGSPuZ8n"
      }
    },
    {
      "cell_type": "markdown",
      "source": [
        "Creating ImageDataGenerator"
      ],
      "metadata": {
        "id": "b6sPDL9xubCi"
      }
    },
    {
      "cell_type": "code",
      "source": [
        "image_gen = ImageDataGenerator(rotation_range=30,\n",
        "                              width_shift_range=0.1,\n",
        "                              height_shift_range=0.1,\n",
        "                              shear_range=0.2,\n",
        "                              zoom_range=0.2,\n",
        "                              rescale=1/255,\n",
        "                              horizontal_flip=True,\n",
        "                              fill_mode='nearest',\n",
        "                              validation_split=0.25)"
      ],
      "metadata": {
        "id": "gK8LreIEuhsD"
      },
      "execution_count": null,
      "outputs": []
    },
    {
      "cell_type": "markdown",
      "source": [
        "##Original Image"
      ],
      "metadata": {
        "id": "KISPY-w0uko6"
      }
    },
    {
      "cell_type": "code",
      "source": [
        "sign_img = cv2.imread(train_data_path+'3/3_100.jpeg')\n",
        "display(sign_img,'3')"
      ],
      "metadata": {
        "id": "fkEzi-oiunWk"
      },
      "execution_count": null,
      "outputs": []
    },
    {
      "cell_type": "markdown",
      "source": [
        "##Augmented Images"
      ],
      "metadata": {
        "id": "tGi2ucrfuqLe"
      }
    },
    {
      "cell_type": "code",
      "source": [
        "display(image_gen.random_transform(sign_img))"
      ],
      "metadata": {
        "id": "kYbFJJ3Eur9M"
      },
      "execution_count": null,
      "outputs": []
    },
    {
      "cell_type": "code",
      "source": [
        "display(image_gen.random_transform(sign_img))"
      ],
      "metadata": {
        "id": "BwvBHvJVuuIa"
      },
      "execution_count": null,
      "outputs": []
    },
    {
      "cell_type": "markdown",
      "source": [
        "##SPLITING INTO TRAIN AND VALIDATION DATASET"
      ],
      "metadata": {
        "id": "TQMzH7QAuygP"
      }
    },
    {
      "cell_type": "markdown",
      "source": [
        "Train Data Generator"
      ],
      "metadata": {
        "id": "E5_ym8qzuziN"
      }
    },
    {
      "cell_type": "code",
      "source": [
        "train_data_gen = image_gen.flow_from_directory(train_data_path,\n",
        "                                           target_size=(250,250),\n",
        "                                           batch_size=16,\n",
        "                                           shuffle=True,\n",
        "                                           class_mode='binary',\n",
        "                                           subset='training')"
      ],
      "metadata": {
        "id": "RxOkwa5OuwXh"
      },
      "execution_count": null,
      "outputs": []
    },
    {
      "cell_type": "markdown",
      "source": [
        "##Validation Data Generator"
      ],
      "metadata": {
        "id": "eGTS2T8Yu5k-"
      }
    },
    {
      "cell_type": "code",
      "source": [
        "validation_data_gen = image_gen.flow_from_directory(train_data_path,\n",
        "                                           target_size=(250,250),\n",
        "                                           batch_size=16,\n",
        "                                           shuffle=True,\n",
        "                                           class_mode='binary',\n",
        "                                           subset='validation')"
      ],
      "metadata": {
        "id": "4PweIhgbu8Ed"
      },
      "execution_count": null,
      "outputs": []
    },
    {
      "cell_type": "markdown",
      "source": [
        "##Test Data Generator"
      ],
      "metadata": {
        "id": "cKqYuwWGu-Eq"
      }
    },
    {
      "cell_type": "code",
      "source": [
        "test_data_gen = image_gen.flow_from_directory(test_data_path,\n",
        "                                           target_size=(250,250),\n",
        "                                           batch_size=8,\n",
        "                                           shuffle=True,\n",
        "                                           class_mode='categorical',\n",
        "                                           )"
      ],
      "metadata": {
        "id": "APH546Wlu_Xl"
      },
      "execution_count": null,
      "outputs": []
    },
    {
      "cell_type": "code",
      "source": [
        "train_data_gen.class_indices"
      ],
      "metadata": {
        "id": "HEfl1B0BvC02"
      },
      "execution_count": null,
      "outputs": []
    },
    {
      "cell_type": "code",
      "source": [
        "test_data_gen.classes"
      ],
      "metadata": {
        "id": "gkDMLWiGvE0L"
      },
      "execution_count": null,
      "outputs": []
    },
    {
      "cell_type": "code",
      "source": [
        "len(train_data_gen.classes)"
      ],
      "metadata": {
        "id": "yTwBzvPrvGzl"
      },
      "execution_count": null,
      "outputs": []
    },
    {
      "cell_type": "code",
      "source": [
        "len(test_data_gen.classes)"
      ],
      "metadata": {
        "id": "jU7-J01XvGwB"
      },
      "execution_count": null,
      "outputs": []
    }
  ]
}