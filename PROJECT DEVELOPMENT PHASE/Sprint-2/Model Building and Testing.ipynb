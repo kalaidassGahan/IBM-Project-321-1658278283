{
  "nbformat": 4,
  "nbformat_minor": 0,
  "metadata": {
    "colab": {
      "provenance": []
    },
    "kernelspec": {
      "name": "python3",
      "display_name": "Python 3"
    },
    "language_info": {
      "name": "python"
    }
  },
  "cells": [
    {
      "cell_type": "code",
      "execution_count": null,
      "metadata": {
        "id": "rdOPhF-LcgRj"
      },
      "outputs": [],
      "source": []
    },
    {
      "cell_type": "code",
      "source": [
        "from google.colab import drive\n",
        "drive.mount('/content/drive')"
      ],
      "metadata": {
        "colab": {
          "base_uri": "https://localhost:8080/"
        },
        "id": "YChV-AS-cwL-",
        "outputId": "1ee927d9-d31a-46c8-d388-be4e5a9ace4e"
      },
      "execution_count": 5,
      "outputs": [
        {
          "output_type": "stream",
          "name": "stdout",
          "text": [
            "Drive already mounted at /content/drive; to attempt to forcibly remount, call drive.mount(\"/content/drive\", force_remount=True).\n"
          ]
        }
      ]
    },
    {
      "cell_type": "code",
      "source": [
        "ls"
      ],
      "metadata": {
        "colab": {
          "base_uri": "https://localhost:8080/"
        },
        "id": "YB-CuFFrd8Lh",
        "outputId": "b4ac84b9-ad4f-45f6-96e3-f58ec88c4edf"
      },
      "execution_count": 6,
      "outputs": [
        {
          "output_type": "stream",
          "name": "stdout",
          "text": [
            "\u001b[0m\u001b[01;34mdrive\u001b[0m/  \u001b[01;34msample_data\u001b[0m/\n"
          ]
        }
      ]
    },
    {
      "cell_type": "markdown",
      "source": [
        "##Image Preprocessing"
      ],
      "metadata": {
        "id": "wLYSrDKFFdtB"
      }
    },
    {
      "cell_type": "markdown",
      "source": [
        "##Import ImageDataGenerator Library And Configure It"
      ],
      "metadata": {
        "id": "C_p9wybWrVL-"
      }
    },
    {
      "cell_type": "code",
      "source": [
        "from keras.preprocessing.image import ImageDataGenerator\n",
        "train_datagen = ImageDataGenerator(rescale = 1./255, shear_range=0.2, zoom_range=0.2, horizontal_flip=True)\n",
        "test_datagen = ImageDataGenerator(rescale = 1./255)"
      ],
      "metadata": {
        "id": "JbmV3GfrFh9k"
      },
      "execution_count": 7,
      "outputs": []
    },
    {
      "cell_type": "markdown",
      "source": [
        "##Apply ImageDataGenerator Functionality To Train And Test Set"
      ],
      "metadata": {
        "id": "wPdqkeqDrX6W"
      }
    },
    {
      "cell_type": "code",
      "source": [
        "x_train = train_datagen.flow_from_directory('/content/drive/MyDrive/Nalaiyathiran/Dataset/training_set', target_size=(64,64), batch_size=300,class_mode='categorical', color_mode = \"grayscale\")\n",
        "x_test = test_datagen.flow_from_directory('/content/drive/MyDrive/Nalaiyathiran/Dataset/test_set', target_size=(64,64), batch_size=300,class_mode='categorical', color_mode = \"grayscale\")"
      ],
      "metadata": {
        "id": "7CO88jL7G_4R",
        "colab": {
          "base_uri": "https://localhost:8080/"
        },
        "outputId": "d25743bb-7c53-4909-e4a9-6af63d1953cd"
      },
      "execution_count": 8,
      "outputs": [
        {
          "output_type": "stream",
          "name": "stdout",
          "text": [
            "Found 15750 images belonging to 9 classes.\n",
            "Found 2250 images belonging to 9 classes.\n"
          ]
        }
      ]
    },
    {
      "cell_type": "markdown",
      "source": [
        "##Testing"
      ],
      "metadata": {
        "id": "ykp_idpeFihn"
      }
    },
    {
      "cell_type": "markdown",
      "source": [
        "##Import The Required Model Building Libraries"
      ],
      "metadata": {
        "id": "Z8eKD4UQk7Hl"
      }
    },
    {
      "cell_type": "code",
      "source": [
        "from keras.models import Sequential\n",
        "from keras.layers import Dense\n",
        "from keras.layers import Convolution2D\n",
        "from keras.layers import MaxPooling2D\n",
        "from keras.layers import Dropout\n",
        "from keras.layers import Flatten"
      ],
      "metadata": {
        "id": "UcFaFtaweO8W"
      },
      "execution_count": 9,
      "outputs": []
    },
    {
      "cell_type": "markdown",
      "source": [
        "##Initialize The Model"
      ],
      "metadata": {
        "id": "hLrZViZDlPpl"
      }
    },
    {
      "cell_type": "code",
      "source": [
        "model=Sequential()"
      ],
      "metadata": {
        "id": "TGHALJUNeTg9"
      },
      "execution_count": 11,
      "outputs": []
    },
    {
      "cell_type": "markdown",
      "source": [
        "##Add The Convolution Layer"
      ],
      "metadata": {
        "id": "q9OLbaXTlUOo"
      }
    },
    {
      "cell_type": "code",
      "source": [
        "model.add(Convolution2D(32, (3,3), input_shape=(64,64,1), activation= 'relu'))\n",
        "#no. of feature detectors, size of featuredetector, image size, activation function"
      ],
      "metadata": {
        "id": "sTXduWD5eZr4"
      },
      "execution_count": 12,
      "outputs": []
    },
    {
      "cell_type": "markdown",
      "source": [
        "##Add The Pooling Layer"
      ],
      "metadata": {
        "id": "4izZYp-xlYSQ"
      }
    },
    {
      "cell_type": "code",
      "source": [
        "model.add(MaxPooling2D(pool_size=(2,2)))"
      ],
      "metadata": {
        "id": "zGmehsJceliw"
      },
      "execution_count": 14,
      "outputs": []
    },
    {
      "cell_type": "markdown",
      "source": [
        "##Add The Flatten Layer"
      ],
      "metadata": {
        "id": "G7JgDMyJlYzV"
      }
    },
    {
      "cell_type": "code",
      "source": [
        "model.add(Flatten())"
      ],
      "metadata": {
        "id": "5yML_kREQZ9X"
      },
      "execution_count": 15,
      "outputs": []
    },
    {
      "cell_type": "markdown",
      "source": [
        "##Adding The Dense Layers"
      ],
      "metadata": {
        "id": "GSjnuhwhlhmX"
      }
    },
    {
      "cell_type": "code",
      "source": [
        "model.add(Dense(units=512, activation='relu'))\n",
        "model.add(Dense(units=9, activation='softmax'))"
      ],
      "metadata": {
        "id": "fCUN4cxDQZ57"
      },
      "execution_count": 16,
      "outputs": []
    },
    {
      "cell_type": "markdown",
      "source": [
        "##Compile The Model"
      ],
      "metadata": {
        "id": "nF3VXUkwlldP"
      }
    },
    {
      "cell_type": "code",
      "source": [
        "model.compile(loss='categorical_crossentropy', optimizer='adam', metrics=['accuracy'])"
      ],
      "metadata": {
        "id": "eAiQ0cH_QZy6"
      },
      "execution_count": 17,
      "outputs": []
    },
    {
      "cell_type": "markdown",
      "source": [
        "##Fit And Save The Model"
      ],
      "metadata": {
        "id": "iQwbTo4RlosS"
      }
    },
    {
      "cell_type": "code",
      "source": [
        "model.fit_generator(x_train, steps_per_epoch=24, epochs=10, validation_data=x_test, validation_steps=40)\n",
        "#steps_per_epoch = no.of train images//batch size"
      ],
      "metadata": {
        "id": "6rShgWL_RRwF",
        "colab": {
          "base_uri": "https://localhost:8080/"
        },
        "outputId": "59edca33-07ad-4753-9bd3-5343ef91a13b"
      },
      "execution_count": 18,
      "outputs": [
        {
          "output_type": "stream",
          "name": "stderr",
          "text": [
            "/usr/local/lib/python3.7/dist-packages/ipykernel_launcher.py:1: UserWarning: `Model.fit_generator` is deprecated and will be removed in a future version. Please use `Model.fit`, which supports generators.\n",
            "  \"\"\"Entry point for launching an IPython kernel.\n"
          ]
        },
        {
          "output_type": "stream",
          "name": "stdout",
          "text": [
            "Epoch 1/10\n",
            "24/24 [==============================] - ETA: 0s - loss: 0.8270 - accuracy: 0.7379 "
          ]
        },
        {
          "output_type": "stream",
          "name": "stderr",
          "text": [
            "WARNING:tensorflow:Your input ran out of data; interrupting training. Make sure that your dataset or generator can generate at least `steps_per_epoch * epochs` batches (in this case, 40 batches). You may need to use the repeat() function when building your dataset.\n"
          ]
        },
        {
          "output_type": "stream",
          "name": "stdout",
          "text": [
            "\b\b\b\b\b\b\b\b\b\b\b\b\b\b\b\b\b\b\b\b\b\b\b\b\b\b\b\b\b\b\b\b\b\b\b\b\b\b\b\b\b\b\b\b\b\b\b\b\b\b\b\b\b\b\b\b\b\b\b\b\b\b\b\b\b\b\b\b\b\b\b\b\b\b\b\b\b\b\b\b\b\b\r24/24 [==============================] - 1931s 81s/step - loss: 0.8270 - accuracy: 0.7379 - val_loss: 0.3614 - val_accuracy: 0.9129\n",
            "Epoch 2/10\n",
            "24/24 [==============================] - 711s 30s/step - loss: 0.2278 - accuracy: 0.9357\n",
            "Epoch 3/10\n",
            "24/24 [==============================] - 366s 15s/step - loss: 0.1275 - accuracy: 0.9661\n",
            "Epoch 4/10\n",
            "24/24 [==============================] - 208s 9s/step - loss: 0.0911 - accuracy: 0.9761\n",
            "Epoch 5/10\n",
            "24/24 [==============================] - 114s 5s/step - loss: 0.0641 - accuracy: 0.9840\n",
            "Epoch 6/10\n",
            "24/24 [==============================] - 78s 3s/step - loss: 0.0514 - accuracy: 0.9864\n",
            "Epoch 7/10\n",
            "24/24 [==============================] - 52s 2s/step - loss: 0.0409 - accuracy: 0.9900\n",
            "Epoch 8/10\n",
            "24/24 [==============================] - 40s 2s/step - loss: 0.0294 - accuracy: 0.9929\n",
            "Epoch 9/10\n",
            "24/24 [==============================] - 36s 1s/step - loss: 0.0194 - accuracy: 0.9956\n",
            "Epoch 10/10\n",
            "24/24 [==============================] - 33s 1s/step - loss: 0.0165 - accuracy: 0.9962\n"
          ]
        },
        {
          "output_type": "execute_result",
          "data": {
            "text/plain": [
              "<keras.callbacks.History at 0x7f9352cc6c90>"
            ]
          },
          "metadata": {},
          "execution_count": 18
        }
      ]
    },
    {
      "cell_type": "code",
      "source": [
        "model.save('aslpng1.h5')"
      ],
      "metadata": {
        "id": "oYkIeJ16Rv72"
      },
      "execution_count": 19,
      "outputs": []
    },
    {
      "cell_type": "markdown",
      "source": [
        "##Testmodel"
      ],
      "metadata": {
        "id": "m4K8Iy1aIT_l"
      }
    },
    {
      "cell_type": "markdown",
      "source": [
        "##Import The Packages And Load The Saved Model"
      ],
      "metadata": {
        "id": "yrXG--MtmPvl"
      }
    },
    {
      "cell_type": "code",
      "source": [
        "from tensorflow.keras.models import load_model\n",
        "from tensorflow.keras.preprocessing import image\n",
        "import numpy as np\n",
        "import cv2"
      ],
      "metadata": {
        "id": "wfFt14hfR4RT"
      },
      "execution_count": 38,
      "outputs": []
    },
    {
      "cell_type": "code",
      "source": [
        "model=load_model('aslpng1.h5')"
      ],
      "metadata": {
        "id": "BzEmOb9uQZjj"
      },
      "execution_count": 26,
      "outputs": []
    },
    {
      "cell_type": "code",
      "source": [
        "img = image.load_img('/content/drive/MyDrive/Nalaiyathiran/Dataset/test_set/E/1.png')\n",
        "img"
      ],
      "metadata": {
        "colab": {
          "base_uri": "https://localhost:8080/",
          "height": 81
        },
        "id": "bbP4KUThoiVt",
        "outputId": "9c69e9eb-195c-46d0-9470-d5fb970fbdc3"
      },
      "execution_count": 39,
      "outputs": [
        {
          "output_type": "execute_result",
          "data": {
            "text/plain": [
              "<PIL.Image.Image image mode=RGB size=64x64 at 0x7F933BE54D50>"
            ],
            "image/png": "[encoded data removed]"
          },
          "metadata": {},
          "execution_count": 39
        }
      ]
    },
    {
      "cell_type": "markdown",
      "source": [
        "##Load The Test Image, Pre-Process It And Predict"
      ],
      "metadata": {
        "id": "nllNcuU2mdMH"
      }
    },
    {
      "cell_type": "code",
      "source": [
        "from skimage.transform import resize\n",
        "def detect(frame):\n",
        "    img=image.img_to_array(frame)\n",
        "    img = resize(img,(64,64,1))\n",
        "    img = np.expand_dims(img,axis=0)\n",
        "    pred=np.argmax(model.predict(img))\n",
        "    op=['A','B','C','D','E','F','G','H','I']\n",
        "    print(\"THE PREDICTED LETTER IS \",op[pred])"
      ],
      "metadata": {
        "id": "2xBL53lYTIle"
      },
      "execution_count": 44,
      "outputs": []
    },
    {
      "cell_type": "code",
      "source": [
        "img=image.load_img(\"/content/drive/MyDrive/Nalaiyathiran/Dataset/test_set/D/100.png\")\n",
        "detect(img)"
      ],
      "metadata": {
        "colab": {
          "base_uri": "https://localhost:8080/"
        },
        "id": "JVxfJdDapIn1",
        "outputId": "c2fc8785-0d0d-47fe-b36b-746e657ebba0"
      },
      "execution_count": 45,
      "outputs": [
        {
          "output_type": "stream",
          "name": "stdout",
          "text": [
            "1/1 [==============================] - 0s 22ms/step\n",
            "THE PREDICTED LETTER IS  D\n"
          ]
        }
      ]
    },
    {
      "cell_type": "code",
      "source": [
        "img=image.load_img(\"/content/drive/MyDrive/Nalaiyathiran/Dataset/test_set/G/1.png\")\n",
        "detect(img)"
      ],
      "metadata": {
        "colab": {
          "base_uri": "https://localhost:8080/"
        },
        "id": "TPetcshKc6d_",
        "outputId": "9cfd9c05-20ff-44e6-e06e-de770989e36c"
      },
      "execution_count": 49,
      "outputs": [
        {
          "output_type": "stream",
          "name": "stdout",
          "text": [
            "1/1 [==============================] - 0s 24ms/step\n",
            "THE PREDICTED LETTER IS  G\n"
          ]
        }
      ]
    }
  ]
}